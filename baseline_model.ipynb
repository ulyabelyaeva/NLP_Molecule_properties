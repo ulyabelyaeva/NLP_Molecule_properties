{
  "nbformat": 4,
  "nbformat_minor": 0,
  "metadata": {
    "kernelspec": {
      "display_name": "Python [conda env:chemprop]",
      "language": "python",
      "name": "conda-env-chemprop-py"
    },
    "language_info": {
      "codemirror_mode": {
        "name": "ipython",
        "version": 3
      },
      "file_extension": ".py",
      "mimetype": "text/x-python",
      "name": "python",
      "nbconvert_exporter": "python",
      "pygments_lexer": "ipython3",
      "version": "3.8.3"
    },
    "colab": {
      "name": "baseline_model.ipynb",
      "provenance": [],
      "collapsed_sections": []
    }
  },
  "cells": [
    {
      "cell_type": "markdown",
      "metadata": {
        "id": "DojNDFg8jZb_"
      },
      "source": [
        "\n",
        "\n",
        "---\n",
        "\n",
        "\n",
        "\n",
        "# План анализа данных\n",
        "\n",
        "  1. Загрузить данные для обучения;\n",
        "  2. Обработать данные перед обучением модели;\n",
        "  3. Обучить и провалидировать модель;\n",
        "  4. Попробовать улучшить модель с помощью подбора параметров.\n",
        "\n",
        "\n",
        "\n",
        "---"
      ]
    },
    {
      "cell_type": "markdown",
      "metadata": {
        "id": "gagC-NavcDNu"
      },
      "source": [
        "# Установка библиотек"
      ]
    },
    {
      "cell_type": "code",
      "metadata": {
        "colab": {
          "base_uri": "https://localhost:8080/"
        },
        "id": "vObn2BmrbHOj",
        "outputId": "1712d232-9b4e-474a-f4a3-3dffc5c0ca03"
      },
      "source": [
        "# Grab Jaime's excellent condacolab package: https://github.com/jaimergp/condacolab\n",
        "# Note: you should probably read the README file at that repo.\n",
        "!pip install -q condacolab\n",
        "import condacolab\n",
        "condacolab.install()"
      ],
      "execution_count": 1,
      "outputs": [
        {
          "output_type": "stream",
          "text": [
            "⏬ Downloading https://github.com/jaimergp/miniforge/releases/latest/download/Mambaforge-colab-Linux-x86_64.sh...\n",
            "📦 Installing...\n",
            "📌 Adjusting configuration...\n",
            "🩹 Patching environment...\n",
            "⏲ Done in 0:00:35\n",
            "🔁 Restarting kernel...\n"
          ],
          "name": "stdout"
        }
      ]
    },
    {
      "cell_type": "code",
      "metadata": {
        "colab": {
          "base_uri": "https://localhost:8080/"
        },
        "id": "Fo3ZHHvSbJWd",
        "outputId": "a259d78c-895e-43d2-d834-c0f8f4a2fe4b"
      },
      "source": [
        "!mamba install -c conda-forge rdkit chembl_structure_pipeline"
      ],
      "execution_count": 1,
      "outputs": [
        {
          "output_type": "stream",
          "text": [
            "\n",
            "                  __    __    __    __\n",
            "                 /  \\  /  \\  /  \\  /  \\\n",
            "                /    \\/    \\/    \\/    \\\n",
            "███████████████/  /██/  /██/  /██/  /████████████████████████\n",
            "              /  / \\   / \\   / \\   / \\  \\____\n",
            "             /  /   \\_/   \\_/   \\_/   \\    o \\__,\n",
            "            / _/                       \\_____/  `\n",
            "            |/\n",
            "        ███╗   ███╗ █████╗ ███╗   ███╗██████╗  █████╗\n",
            "        ████╗ ████║██╔══██╗████╗ ████║██╔══██╗██╔══██╗\n",
            "        ██╔████╔██║███████║██╔████╔██║██████╔╝███████║\n",
            "        ██║╚██╔╝██║██╔══██║██║╚██╔╝██║██╔══██╗██╔══██║\n",
            "        ██║ ╚═╝ ██║██║  ██║██║ ╚═╝ ██║██████╔╝██║  ██║\n",
            "        ╚═╝     ╚═╝╚═╝  ╚═╝╚═╝     ╚═╝╚═════╝ ╚═╝  ╚═╝\n",
            "\n",
            "        mamba (0.8.0) supported by @QuantStack\n",
            "\n",
            "        GitHub:  https://github.com/mamba-org/mamba\n",
            "        Twitter: https://twitter.com/QuantStack\n",
            "\n",
            "█████████████████████████████████████████████████████████████\n",
            "\n",
            "\n",
            "Looking for: ['rdkit', 'chembl_structure_pipeline']\n",
            "\n",
            "conda-forge/linux-64     Using cache\n",
            "conda-forge/noarch       Using cache\n",
            "pkgs/main/noarch         [] (--:--) No change\n",
            "pkgs/main/noarch         [] (00m:00s) No change\n",
            "pkgs/main/noarch         [] (00m:00s) No change\n",
            "pkgs/main/linux-64       [] (--:--) No change\n",
            "pkgs/main/linux-64       [] (00m:00s) No change\n",
            "pkgs/main/linux-64       [] (00m:00s) No change\n",
            "pkgs/r/linux-64          [] (--:--) No change\n",
            "pkgs/r/linux-64          [] (00m:00s) No change\n",
            "pkgs/r/linux-64          [] (00m:00s) No change\n",
            "pkgs/r/noarch            [] (--:--) No change\n",
            "pkgs/r/noarch            [] (00m:00s) No change\n",
            "pkgs/r/noarch            [] (00m:00s) No change\n",
            "Transaction\n",
            "\n",
            "  Prefix: /usr/local\n",
            "\n",
            "  All requested packages already installed\n",
            "\n"
          ],
          "name": "stdout"
        }
      ]
    },
    {
      "cell_type": "code",
      "metadata": {
        "colab": {
          "base_uri": "https://localhost:8080/"
        },
        "id": "PVb5Cn7PbvAh",
        "outputId": "5b2a7936-dde1-492a-dedb-714dd779c432"
      },
      "source": [
        "!pip install git+https://github.com/bp-kelley/descriptastorus"
      ],
      "execution_count": 2,
      "outputs": [
        {
          "output_type": "stream",
          "text": [
            "Collecting git+https://github.com/bp-kelley/descriptastorus\n",
            "  Cloning https://github.com/bp-kelley/descriptastorus to /tmp/pip-req-build-5n9vojkn\n",
            "  Running command git clone -q https://github.com/bp-kelley/descriptastorus /tmp/pip-req-build-5n9vojkn\n",
            "Collecting pandas_flavor\n",
            "  Downloading pandas_flavor-0.2.0-py2.py3-none-any.whl (6.6 kB)\n",
            "Requirement already satisfied: pandas in /usr/local/lib/python3.7/site-packages (from pandas_flavor->descriptastorus==2.3.0.2) (1.2.4)\n",
            "Collecting xarray\n",
            "  Downloading xarray-0.18.0-py3-none-any.whl (801 kB)\n",
            "\u001b[K     |████████████████████████████████| 801 kB 5.1 MB/s \n",
            "\u001b[?25hRequirement already satisfied: python-dateutil>=2.7.3 in /usr/local/lib/python3.7/site-packages (from pandas->pandas_flavor->descriptastorus==2.3.0.2) (2.8.1)\n",
            "Requirement already satisfied: pytz>=2017.3 in /usr/local/lib/python3.7/site-packages (from pandas->pandas_flavor->descriptastorus==2.3.0.2) (2021.1)\n",
            "Requirement already satisfied: numpy>=1.16.5 in /usr/local/lib/python3.7/site-packages (from pandas->pandas_flavor->descriptastorus==2.3.0.2) (1.20.2)\n",
            "Requirement already satisfied: six>=1.5 in /usr/local/lib/python3.7/site-packages (from python-dateutil>=2.7.3->pandas->pandas_flavor->descriptastorus==2.3.0.2) (1.15.0)\n",
            "Requirement already satisfied: setuptools>=40.4 in /usr/local/lib/python3.7/site-packages (from xarray->pandas_flavor->descriptastorus==2.3.0.2) (49.6.0.post20210108)\n",
            "Building wheels for collected packages: descriptastorus\n",
            "  Building wheel for descriptastorus (setup.py) ... \u001b[?25l\u001b[?25hdone\n",
            "  Created wheel for descriptastorus: filename=descriptastorus-2.3.0.2-py3-none-any.whl size=60174 sha256=17439c7cca0a7ae85755649962330376b7fe5c51dc7b42fef6a066a668d83686\n",
            "  Stored in directory: /tmp/pip-ephem-wheel-cache-436z0ec7/wheels/f9/c3/4f/e7d01f4f2f1a89aef8f0ef088beb4a94976324f3ee21410b10\n",
            "Successfully built descriptastorus\n",
            "Installing collected packages: xarray, pandas-flavor, descriptastorus\n",
            "Successfully installed descriptastorus-2.3.0.2 pandas-flavor-0.2.0 xarray-0.18.0\n"
          ],
          "name": "stdout"
        }
      ]
    },
    {
      "cell_type": "markdown",
      "metadata": {
        "id": "Z3bsmmWZcIqA"
      },
      "source": [
        "# Импорт библиотек"
      ]
    },
    {
      "cell_type": "code",
      "metadata": {
        "id": "VJxT1nEoa4Fr"
      },
      "source": [
        "import pandas as pd\n",
        "import os\n",
        "\n",
        "from rdkit import Chem\n",
        "from rdkit.Chem import AllChem\n",
        "from rdkit.Chem import Draw\n",
        "import matplotlib.pyplot as plt\n",
        "from tqdm import tqdm\n",
        "\n",
        "from sklearn.model_selection import train_test_split\n",
        "\n",
        "from typing import Dict, List, Optional\n",
        "from pathlib import Path\n",
        "\n",
        "from multiprocessing.pool import Pool\n",
        "\n",
        "from rdkit.Chem.MolStandardize.tautomer import TautomerCanonicalizer\n",
        "\n"
      ],
      "execution_count": 3,
      "outputs": []
    },
    {
      "cell_type": "markdown",
      "metadata": {
        "id": "uIySMuY9cuQ6"
      },
      "source": [
        "# Загрузка данных"
      ]
    },
    {
      "cell_type": "code",
      "metadata": {
        "colab": {
          "base_uri": "https://localhost:8080/"
        },
        "id": "nBhZ0Rzncv6v",
        "outputId": "2896c2b0-cdf1-4c9b-a354-43881fc532ba"
      },
      "source": [
        "!wget https://www.dropbox.com/s/5b05tivi01a43np/delaney-processed.csv\n",
        "!wget https://www.dropbox.com/s/dsrl00tj4zjmqbz/Lipophilicity.csv"
      ],
      "execution_count": 39,
      "outputs": [
        {
          "output_type": "stream",
          "text": [
            "--2021-05-09 09:56:11--  https://www.dropbox.com/s/5b05tivi01a43np/delaney-processed.csv\n",
            "Resolving www.dropbox.com (www.dropbox.com)... 162.125.5.18, 2620:100:601d:18::a27d:512\n",
            "Connecting to www.dropbox.com (www.dropbox.com)|162.125.5.18|:443... connected.\n",
            "HTTP request sent, awaiting response... 301 Moved Permanently\n",
            "Location: /s/raw/5b05tivi01a43np/delaney-processed.csv [following]\n",
            "--2021-05-09 09:56:11--  https://www.dropbox.com/s/raw/5b05tivi01a43np/delaney-processed.csv\n",
            "Reusing existing connection to www.dropbox.com:443.\n",
            "HTTP request sent, awaiting response... 302 Found\n",
            "Location: https://uc55f45ff744e818270390fc41f5.dl.dropboxusercontent.com/cd/0/inline/BOIPMih-L0D9coG_LXXv1nX-5t2GXL52BHir1sRCNg7Jp7-J6Geb1yqv8gWdG0qMxXHzk4Duw9qmLxLaJ6ooWd7pJ8nXpnw1exrorvdah_9OydMhvu5REuIQ-FJZGTWnotHORICzvCu_oZ_1FPbkI7K_/file# [following]\n",
            "--2021-05-09 09:56:11--  https://uc55f45ff744e818270390fc41f5.dl.dropboxusercontent.com/cd/0/inline/BOIPMih-L0D9coG_LXXv1nX-5t2GXL52BHir1sRCNg7Jp7-J6Geb1yqv8gWdG0qMxXHzk4Duw9qmLxLaJ6ooWd7pJ8nXpnw1exrorvdah_9OydMhvu5REuIQ-FJZGTWnotHORICzvCu_oZ_1FPbkI7K_/file\n",
            "Resolving uc55f45ff744e818270390fc41f5.dl.dropboxusercontent.com (uc55f45ff744e818270390fc41f5.dl.dropboxusercontent.com)... 162.125.5.15, 2620:100:601d:15::a27d:50f\n",
            "Connecting to uc55f45ff744e818270390fc41f5.dl.dropboxusercontent.com (uc55f45ff744e818270390fc41f5.dl.dropboxusercontent.com)|162.125.5.15|:443... connected.\n",
            "HTTP request sent, awaiting response... 200 OK\n",
            "Length: 96699 (94K) [text/plain]\n",
            "Saving to: ‘delaney-processed.csv.2’\n",
            "\n",
            "delaney-processed.c 100%[===================>]  94.43K  --.-KB/s    in 0.06s   \n",
            "\n",
            "2021-05-09 09:56:13 (1.60 MB/s) - ‘delaney-processed.csv.2’ saved [96699/96699]\n",
            "\n",
            "--2021-05-09 09:56:14--  https://www.dropbox.com/s/dsrl00tj4zjmqbz/Lipophilicity.csv\n",
            "Resolving www.dropbox.com (www.dropbox.com)... 162.125.5.18, 2620:100:601d:18::a27d:512\n",
            "Connecting to www.dropbox.com (www.dropbox.com)|162.125.5.18|:443... connected.\n",
            "HTTP request sent, awaiting response... 301 Moved Permanently\n",
            "Location: /s/raw/dsrl00tj4zjmqbz/Lipophilicity.csv [following]\n",
            "--2021-05-09 09:56:14--  https://www.dropbox.com/s/raw/dsrl00tj4zjmqbz/Lipophilicity.csv\n",
            "Reusing existing connection to www.dropbox.com:443.\n",
            "HTTP request sent, awaiting response... 302 Found\n",
            "Location: https://uc94e89a15f3f65d69f07909c3f1.dl.dropboxusercontent.com/cd/0/inline/BOLVdC4Ej9mw4nK2PvbZWFXiYCxZJNYfzWxuCXBBaCR_ugmBu5ACgJkB00YwTZ7IdbmWieGKFCW04G0paRIFnKf7tcBrn55ASk2poeguFmjX5zzwEf9b6ecNCvVkTBxmt03CDEGv_ObX13FS4h_YHHJt/file# [following]\n",
            "--2021-05-09 09:56:14--  https://uc94e89a15f3f65d69f07909c3f1.dl.dropboxusercontent.com/cd/0/inline/BOLVdC4Ej9mw4nK2PvbZWFXiYCxZJNYfzWxuCXBBaCR_ugmBu5ACgJkB00YwTZ7IdbmWieGKFCW04G0paRIFnKf7tcBrn55ASk2poeguFmjX5zzwEf9b6ecNCvVkTBxmt03CDEGv_ObX13FS4h_YHHJt/file\n",
            "Resolving uc94e89a15f3f65d69f07909c3f1.dl.dropboxusercontent.com (uc94e89a15f3f65d69f07909c3f1.dl.dropboxusercontent.com)... 162.125.5.15, 2620:100:601d:15::a27d:50f\n",
            "Connecting to uc94e89a15f3f65d69f07909c3f1.dl.dropboxusercontent.com (uc94e89a15f3f65d69f07909c3f1.dl.dropboxusercontent.com)|162.125.5.15|:443... connected.\n",
            "HTTP request sent, awaiting response... 200 OK\n",
            "Length: 282606 (276K) [text/plain]\n",
            "Saving to: ‘Lipophilicity.csv’\n",
            "\n",
            "Lipophilicity.csv   100%[===================>] 275.98K  --.-KB/s    in 0.1s    \n",
            "\n",
            "2021-05-09 09:56:15 (2.72 MB/s) - ‘Lipophilicity.csv’ saved [282606/282606]\n",
            "\n"
          ],
          "name": "stdout"
        }
      ]
    },
    {
      "cell_type": "code",
      "metadata": {
        "id": "GWCV-vuBfEn0"
      },
      "source": [
        "class DatasetsHolder:\n",
        "    @staticmethod\n",
        "    def read_datasets(inp_folder_path):\n",
        "        # return pandas DataFrame\n",
        "        df = pd.read_csv(inp_folder_path)\n",
        "        return df\n",
        "\n",
        "\n",
        "class StandardizeDatasets:\n",
        "    @staticmethod\n",
        "    def standardize_smiles(smi: str) -> Optional[str]:\n",
        "        \"crete typical standartization of one smiles\"\n",
        "        mol = Chem.MolFromSmiles(smi)\n",
        "        smi1 = Chem.MolToSmiles(mol)\n",
        "        return smi1\n",
        "\n",
        "    def standardize(self, inp_path: Path, out_path: Path):\n",
        "        \"apply standartization to all smiles\"\n",
        "        dt = DatasetsHolder()\n",
        "        df = dt.read_datasets(inp_path)\n",
        "        sd = StandardizeDatasets()\n",
        "        df['standardized_smiles'] = df['smiles'].apply(sd.standardize_smiles)\n",
        "        df.to_csv(out_path)\n",
        "\n",
        "\n",
        "class StandardizeTautomers(StandardizeDatasets):\n",
        "    @staticmethod\n",
        "    def standardize_smiles(smi: str) -> Optional[str]:\n",
        "        \"apply TautomerCanonicalizer() to standartization\"\n",
        "        tc = TautomerCanonicalizer()\n",
        "        mol = Chem.MolFromSmiles(smi)\n",
        "        mol1 = tc.canonicalize(mol)\n",
        "        smi1 = Chem.MolToSmiles(mol)\n",
        "        return smi1"
      ],
      "execution_count": 6,
      "outputs": []
    },
    {
      "cell_type": "code",
      "metadata": {
        "id": "ETXjvcyyhZqw"
      },
      "source": [
        "stantaut = StandardizeTautomers()\n",
        "stantaut.standardize('delaney-processed.csv', 'out-delaney-processed.csv')\n",
        "stantaut.standardize('Lipophilicity.csv', 'out-Lipophilicity.csv')"
      ],
      "execution_count": 41,
      "outputs": []
    },
    {
      "cell_type": "code",
      "metadata": {
        "id": "0wD25Wdfa4Fs"
      },
      "source": [
        "SMILES_COLUMN = 'standardized_smiles' # название предобработанных данных\n",
        "VALUE_COLUMN = 'expt'\n",
        "\n",
        "DATASET_INPUT_PATH = 'out-delaney-processed.csv' #название предоработанного файла\n",
        "DATASET_INPUT_PATH_lip = 'out-Lipophilicity.csv' #название предоработанного файла"
      ],
      "execution_count": 43,
      "outputs": []
    },
    {
      "cell_type": "markdown",
      "metadata": {
        "id": "QG-lnRNkiL-r"
      },
      "source": [
        "# Выделение признаков"
      ]
    },
    {
      "cell_type": "code",
      "metadata": {
        "id": "HuMxOd9siQA5"
      },
      "source": [
        "data_reader = DatasetsHolder()#класс, читающий данные\n",
        "data = data_reader.read_datasets(DATASET_INPUT_PATH)# метод\n",
        "data_lip = data_reader.read_datasets(DATASET_INPUT_PATH_lip)# метод"
      ],
      "execution_count": 44,
      "outputs": []
    },
    {
      "cell_type": "code",
      "metadata": {
        "colab": {
          "base_uri": "https://localhost:8080/",
          "height": 206
        },
        "id": "NKtJGUqO4rjv",
        "outputId": "e96aeb66-e56e-4e37-8404-087f464a20f6"
      },
      "source": [
        "data.head()\n",
        "data_lip.head()"
      ],
      "execution_count": 48,
      "outputs": [
        {
          "output_type": "execute_result",
          "data": {
            "text/html": [
              "<div>\n",
              "<style scoped>\n",
              "    .dataframe tbody tr th:only-of-type {\n",
              "        vertical-align: middle;\n",
              "    }\n",
              "\n",
              "    .dataframe tbody tr th {\n",
              "        vertical-align: top;\n",
              "    }\n",
              "\n",
              "    .dataframe thead th {\n",
              "        text-align: right;\n",
              "    }\n",
              "</style>\n",
              "<table border=\"1\" class=\"dataframe\">\n",
              "  <thead>\n",
              "    <tr style=\"text-align: right;\">\n",
              "      <th></th>\n",
              "      <th>Unnamed: 0</th>\n",
              "      <th>CMPD_CHEMBLID</th>\n",
              "      <th>exp</th>\n",
              "      <th>smiles</th>\n",
              "      <th>standardized_smiles</th>\n",
              "    </tr>\n",
              "  </thead>\n",
              "  <tbody>\n",
              "    <tr>\n",
              "      <th>0</th>\n",
              "      <td>0</td>\n",
              "      <td>CHEMBL596271</td>\n",
              "      <td>3.54</td>\n",
              "      <td>Cn1c(CN2CCN(CC2)c3ccc(Cl)cc3)nc4ccccc14</td>\n",
              "      <td>Cn1c(CN2CCN(c3ccc(Cl)cc3)CC2)nc2ccccc21</td>\n",
              "    </tr>\n",
              "    <tr>\n",
              "      <th>1</th>\n",
              "      <td>1</td>\n",
              "      <td>CHEMBL1951080</td>\n",
              "      <td>-1.18</td>\n",
              "      <td>COc1cc(OC)c(cc1NC(=O)CSCC(=O)O)S(=O)(=O)N2C(C)...</td>\n",
              "      <td>COc1cc(OC)c(S(=O)(=O)N2c3ccccc3CCC2C)cc1NC(=O)...</td>\n",
              "    </tr>\n",
              "    <tr>\n",
              "      <th>2</th>\n",
              "      <td>2</td>\n",
              "      <td>CHEMBL1771</td>\n",
              "      <td>3.69</td>\n",
              "      <td>COC(=O)[C@@H](N1CCc2sccc2C1)c3ccccc3Cl</td>\n",
              "      <td>COC(=O)[C@H](c1ccccc1Cl)N1CCc2sccc2C1</td>\n",
              "    </tr>\n",
              "    <tr>\n",
              "      <th>3</th>\n",
              "      <td>3</td>\n",
              "      <td>CHEMBL234951</td>\n",
              "      <td>3.37</td>\n",
              "      <td>OC[C@H](O)CN1C(=O)C(Cc2ccccc12)NC(=O)c3cc4cc(C...</td>\n",
              "      <td>O=C(NC1Cc2ccccc2N(C[C@@H](O)CO)C1=O)c1cc2cc(Cl...</td>\n",
              "    </tr>\n",
              "    <tr>\n",
              "      <th>4</th>\n",
              "      <td>4</td>\n",
              "      <td>CHEMBL565079</td>\n",
              "      <td>3.10</td>\n",
              "      <td>Cc1cccc(C[C@H](NC(=O)c2cc(nn2C)C(C)(C)C)C(=O)N...</td>\n",
              "      <td>Cc1cccc(C[C@H](NC(=O)c2cc(C(C)(C)C)nn2C)C(=O)N...</td>\n",
              "    </tr>\n",
              "  </tbody>\n",
              "</table>\n",
              "</div>"
            ],
            "text/plain": [
              "   Unnamed: 0  ...                                standardized_smiles\n",
              "0           0  ...            Cn1c(CN2CCN(c3ccc(Cl)cc3)CC2)nc2ccccc21\n",
              "1           1  ...  COc1cc(OC)c(S(=O)(=O)N2c3ccccc3CCC2C)cc1NC(=O)...\n",
              "2           2  ...              COC(=O)[C@H](c1ccccc1Cl)N1CCc2sccc2C1\n",
              "3           3  ...  O=C(NC1Cc2ccccc2N(C[C@@H](O)CO)C1=O)c1cc2cc(Cl...\n",
              "4           4  ...  Cc1cccc(C[C@H](NC(=O)c2cc(C(C)(C)C)nn2C)C(=O)N...\n",
              "\n",
              "[5 rows x 5 columns]"
            ]
          },
          "metadata": {
            "tags": []
          },
          "execution_count": 48
        }
      ]
    },
    {
      "cell_type": "code",
      "metadata": {
        "id": "qWmh4rOJa4Fs"
      },
      "source": [
        "from descriptastorus.descriptors import rdDescriptors\n",
        "from rdkit import Chem\n",
        "import logging\n",
        "\n",
        "\n",
        "generator = rdDescriptors.RDKit2D()\n",
        "\n",
        "\n",
        "def rdkit_2d_features(smiles: str):\n",
        "    # Достать свойства молекулы при помощи https://github.com/bp-kelley/descriptastorus\n",
        "    features = generator.process(smiles)\n",
        "    if not features[0]:\n",
        "        print(f'{smiles} not processed')\n",
        "        return None\n",
        "    return features[1:]\n",
        "    "
      ],
      "execution_count": 49,
      "outputs": []
    },
    {
      "cell_type": "code",
      "metadata": {
        "id": "3DLFOxAba4Ft"
      },
      "source": [
        "def create_feature_dataframe(df, target):\n",
        "    features_names = [gen[0] for gen in generator.columns]\n",
        "    dicts = []\n",
        "    for i in range(len(df)):\n",
        "        x, y = df.iloc[i]['smiles'], df.iloc[i][target]\n",
        "        features = rdkit_2d_features(x)\n",
        "        dicts.append(dict(zip(features_names, features)))\n",
        "        dicts[-1]['target'] = y\n",
        "    df1 = pd.DataFrame(dicts)\n",
        "    return df1\n",
        "\n"
      ],
      "execution_count": 51,
      "outputs": []
    },
    {
      "cell_type": "code",
      "metadata": {
        "id": "P0uyXoHJiRZJ"
      },
      "source": [
        "data_feats = create_feature_dataframe(data, 'measured log solubility in mols per litre')\n",
        "data_feats_lip = create_feature_dataframe(data_lip, 'exp')"
      ],
      "execution_count": 52,
      "outputs": []
    },
    {
      "cell_type": "markdown",
      "metadata": {
        "id": "QkDiBST2fV7N"
      },
      "source": [
        "# Деление данных на тренировочну и тестовую выборки"
      ]
    },
    {
      "cell_type": "code",
      "metadata": {
        "colab": {
          "base_uri": "https://localhost:8080/",
          "height": 255
        },
        "id": "fwgges0niFQ-",
        "outputId": "514271e3-88f1-45cc-980f-ff4a0af6a1c5"
      },
      "source": [
        "data_feats.head()"
      ],
      "execution_count": 18,
      "outputs": [
        {
          "output_type": "execute_result",
          "data": {
            "text/html": [
              "<div>\n",
              "<style scoped>\n",
              "    .dataframe tbody tr th:only-of-type {\n",
              "        vertical-align: middle;\n",
              "    }\n",
              "\n",
              "    .dataframe tbody tr th {\n",
              "        vertical-align: top;\n",
              "    }\n",
              "\n",
              "    .dataframe thead th {\n",
              "        text-align: right;\n",
              "    }\n",
              "</style>\n",
              "<table border=\"1\" class=\"dataframe\">\n",
              "  <thead>\n",
              "    <tr style=\"text-align: right;\">\n",
              "      <th></th>\n",
              "      <th>BalabanJ</th>\n",
              "      <th>BertzCT</th>\n",
              "      <th>Chi0</th>\n",
              "      <th>Chi0n</th>\n",
              "      <th>Chi0v</th>\n",
              "      <th>Chi1</th>\n",
              "      <th>Chi1n</th>\n",
              "      <th>Chi1v</th>\n",
              "      <th>Chi2n</th>\n",
              "      <th>Chi2v</th>\n",
              "      <th>Chi3n</th>\n",
              "      <th>Chi3v</th>\n",
              "      <th>Chi4n</th>\n",
              "      <th>Chi4v</th>\n",
              "      <th>EState_VSA1</th>\n",
              "      <th>EState_VSA10</th>\n",
              "      <th>EState_VSA11</th>\n",
              "      <th>EState_VSA2</th>\n",
              "      <th>EState_VSA3</th>\n",
              "      <th>EState_VSA4</th>\n",
              "      <th>EState_VSA5</th>\n",
              "      <th>EState_VSA6</th>\n",
              "      <th>EState_VSA7</th>\n",
              "      <th>EState_VSA8</th>\n",
              "      <th>EState_VSA9</th>\n",
              "      <th>ExactMolWt</th>\n",
              "      <th>FpDensityMorgan1</th>\n",
              "      <th>FpDensityMorgan2</th>\n",
              "      <th>FpDensityMorgan3</th>\n",
              "      <th>FractionCSP3</th>\n",
              "      <th>HallKierAlpha</th>\n",
              "      <th>HeavyAtomCount</th>\n",
              "      <th>HeavyAtomMolWt</th>\n",
              "      <th>Ipc</th>\n",
              "      <th>Kappa1</th>\n",
              "      <th>Kappa2</th>\n",
              "      <th>Kappa3</th>\n",
              "      <th>LabuteASA</th>\n",
              "      <th>MaxAbsEStateIndex</th>\n",
              "      <th>MaxAbsPartialCharge</th>\n",
              "      <th>...</th>\n",
              "      <th>fr_imidazole</th>\n",
              "      <th>fr_imide</th>\n",
              "      <th>fr_isocyan</th>\n",
              "      <th>fr_isothiocyan</th>\n",
              "      <th>fr_ketone</th>\n",
              "      <th>fr_ketone_Topliss</th>\n",
              "      <th>fr_lactam</th>\n",
              "      <th>fr_lactone</th>\n",
              "      <th>fr_methoxy</th>\n",
              "      <th>fr_morpholine</th>\n",
              "      <th>fr_nitrile</th>\n",
              "      <th>fr_nitro</th>\n",
              "      <th>fr_nitro_arom</th>\n",
              "      <th>fr_nitro_arom_nonortho</th>\n",
              "      <th>fr_nitroso</th>\n",
              "      <th>fr_oxazole</th>\n",
              "      <th>fr_oxime</th>\n",
              "      <th>fr_para_hydroxylation</th>\n",
              "      <th>fr_phenol</th>\n",
              "      <th>fr_phenol_noOrthoHbond</th>\n",
              "      <th>fr_phos_acid</th>\n",
              "      <th>fr_phos_ester</th>\n",
              "      <th>fr_piperdine</th>\n",
              "      <th>fr_piperzine</th>\n",
              "      <th>fr_priamide</th>\n",
              "      <th>fr_prisulfonamd</th>\n",
              "      <th>fr_pyridine</th>\n",
              "      <th>fr_quatN</th>\n",
              "      <th>fr_sulfide</th>\n",
              "      <th>fr_sulfonamd</th>\n",
              "      <th>fr_sulfone</th>\n",
              "      <th>fr_term_acetylene</th>\n",
              "      <th>fr_tetrazole</th>\n",
              "      <th>fr_thiazole</th>\n",
              "      <th>fr_thiocyan</th>\n",
              "      <th>fr_thiophene</th>\n",
              "      <th>fr_unbrch_alkane</th>\n",
              "      <th>fr_urea</th>\n",
              "      <th>qed</th>\n",
              "      <th>target</th>\n",
              "    </tr>\n",
              "  </thead>\n",
              "  <tbody>\n",
              "    <tr>\n",
              "      <th>0</th>\n",
              "      <td>1.654937</td>\n",
              "      <td>759.662938</td>\n",
              "      <td>23.413485</td>\n",
              "      <td>16.862520</td>\n",
              "      <td>16.862520</td>\n",
              "      <td>15.277295</td>\n",
              "      <td>9.998816</td>\n",
              "      <td>9.998816</td>\n",
              "      <td>7.601218</td>\n",
              "      <td>7.601218</td>\n",
              "      <td>5.431494</td>\n",
              "      <td>5.431494</td>\n",
              "      <td>3.506930</td>\n",
              "      <td>3.506930</td>\n",
              "      <td>80.729515</td>\n",
              "      <td>41.007583</td>\n",
              "      <td>0.0</td>\n",
              "      <td>0.00000</td>\n",
              "      <td>5.563451</td>\n",
              "      <td>0.000000</td>\n",
              "      <td>0.000000</td>\n",
              "      <td>30.331835</td>\n",
              "      <td>6.069221</td>\n",
              "      <td>0.000000</td>\n",
              "      <td>18.947452</td>\n",
              "      <td>457.158411</td>\n",
              "      <td>0.812500</td>\n",
              "      <td>1.375000</td>\n",
              "      <td>1.968750</td>\n",
              "      <td>0.650000</td>\n",
              "      <td>-1.73</td>\n",
              "      <td>32</td>\n",
              "      <td>430.216</td>\n",
              "      <td>1.212120e+07</td>\n",
              "      <td>24.903474</td>\n",
              "      <td>10.926356</td>\n",
              "      <td>5.251706</td>\n",
              "      <td>182.935327</td>\n",
              "      <td>10.253329</td>\n",
              "      <td>0.393567</td>\n",
              "      <td>...</td>\n",
              "      <td>0</td>\n",
              "      <td>0</td>\n",
              "      <td>0</td>\n",
              "      <td>0</td>\n",
              "      <td>0</td>\n",
              "      <td>0</td>\n",
              "      <td>0</td>\n",
              "      <td>0</td>\n",
              "      <td>0</td>\n",
              "      <td>0</td>\n",
              "      <td>1</td>\n",
              "      <td>0</td>\n",
              "      <td>0</td>\n",
              "      <td>0</td>\n",
              "      <td>0</td>\n",
              "      <td>0</td>\n",
              "      <td>0</td>\n",
              "      <td>0</td>\n",
              "      <td>0</td>\n",
              "      <td>0</td>\n",
              "      <td>0</td>\n",
              "      <td>0</td>\n",
              "      <td>0</td>\n",
              "      <td>0</td>\n",
              "      <td>0</td>\n",
              "      <td>0</td>\n",
              "      <td>0</td>\n",
              "      <td>0</td>\n",
              "      <td>0</td>\n",
              "      <td>0</td>\n",
              "      <td>0</td>\n",
              "      <td>0</td>\n",
              "      <td>0</td>\n",
              "      <td>0</td>\n",
              "      <td>0</td>\n",
              "      <td>0</td>\n",
              "      <td>0</td>\n",
              "      <td>0</td>\n",
              "      <td>0.217518</td>\n",
              "      <td>-0.77</td>\n",
              "    </tr>\n",
              "    <tr>\n",
              "      <th>1</th>\n",
              "      <td>2.148162</td>\n",
              "      <td>459.484175</td>\n",
              "      <td>10.673362</td>\n",
              "      <td>8.357948</td>\n",
              "      <td>8.357948</td>\n",
              "      <td>7.270857</td>\n",
              "      <td>4.676643</td>\n",
              "      <td>4.676643</td>\n",
              "      <td>3.210611</td>\n",
              "      <td>3.210611</td>\n",
              "      <td>2.135103</td>\n",
              "      <td>2.135103</td>\n",
              "      <td>1.340444</td>\n",
              "      <td>1.340444</td>\n",
              "      <td>0.000000</td>\n",
              "      <td>4.794537</td>\n",
              "      <td>0.0</td>\n",
              "      <td>5.90718</td>\n",
              "      <td>11.323699</td>\n",
              "      <td>5.687386</td>\n",
              "      <td>6.263163</td>\n",
              "      <td>12.990104</td>\n",
              "      <td>30.331835</td>\n",
              "      <td>5.316789</td>\n",
              "      <td>4.417151</td>\n",
              "      <td>201.078979</td>\n",
              "      <td>1.200000</td>\n",
              "      <td>1.933333</td>\n",
              "      <td>2.533333</td>\n",
              "      <td>0.083333</td>\n",
              "      <td>-2.03</td>\n",
              "      <td>15</td>\n",
              "      <td>190.137</td>\n",
              "      <td>4.231896e+03</td>\n",
              "      <td>9.522160</td>\n",
              "      <td>4.002882</td>\n",
              "      <td>2.070849</td>\n",
              "      <td>87.724095</td>\n",
              "      <td>11.724911</td>\n",
              "      <td>0.468799</td>\n",
              "      <td>...</td>\n",
              "      <td>0</td>\n",
              "      <td>0</td>\n",
              "      <td>0</td>\n",
              "      <td>0</td>\n",
              "      <td>0</td>\n",
              "      <td>0</td>\n",
              "      <td>0</td>\n",
              "      <td>0</td>\n",
              "      <td>0</td>\n",
              "      <td>0</td>\n",
              "      <td>0</td>\n",
              "      <td>0</td>\n",
              "      <td>0</td>\n",
              "      <td>0</td>\n",
              "      <td>0</td>\n",
              "      <td>0</td>\n",
              "      <td>0</td>\n",
              "      <td>1</td>\n",
              "      <td>0</td>\n",
              "      <td>0</td>\n",
              "      <td>0</td>\n",
              "      <td>0</td>\n",
              "      <td>0</td>\n",
              "      <td>0</td>\n",
              "      <td>0</td>\n",
              "      <td>0</td>\n",
              "      <td>0</td>\n",
              "      <td>0</td>\n",
              "      <td>0</td>\n",
              "      <td>0</td>\n",
              "      <td>0</td>\n",
              "      <td>0</td>\n",
              "      <td>0</td>\n",
              "      <td>0</td>\n",
              "      <td>0</td>\n",
              "      <td>0</td>\n",
              "      <td>0</td>\n",
              "      <td>0</td>\n",
              "      <td>0.811283</td>\n",
              "      <td>-3.30</td>\n",
              "    </tr>\n",
              "    <tr>\n",
              "      <th>2</th>\n",
              "      <td>3.625760</td>\n",
              "      <td>171.311799</td>\n",
              "      <td>8.690234</td>\n",
              "      <td>7.554513</td>\n",
              "      <td>7.554513</td>\n",
              "      <td>5.163902</td>\n",
              "      <td>3.908188</td>\n",
              "      <td>3.908188</td>\n",
              "      <td>2.969252</td>\n",
              "      <td>2.969252</td>\n",
              "      <td>1.443820</td>\n",
              "      <td>1.443820</td>\n",
              "      <td>0.788002</td>\n",
              "      <td>0.788002</td>\n",
              "      <td>0.000000</td>\n",
              "      <td>4.794537</td>\n",
              "      <td>0.0</td>\n",
              "      <td>0.00000</td>\n",
              "      <td>0.000000</td>\n",
              "      <td>24.700908</td>\n",
              "      <td>5.573105</td>\n",
              "      <td>6.076020</td>\n",
              "      <td>6.923737</td>\n",
              "      <td>19.923495</td>\n",
              "      <td>0.000000</td>\n",
              "      <td>152.120115</td>\n",
              "      <td>1.272727</td>\n",
              "      <td>1.909091</td>\n",
              "      <td>2.363636</td>\n",
              "      <td>0.500000</td>\n",
              "      <td>-0.85</td>\n",
              "      <td>11</td>\n",
              "      <td>136.109</td>\n",
              "      <td>2.036951e+02</td>\n",
              "      <td>10.150000</td>\n",
              "      <td>5.899351</td>\n",
              "      <td>7.042356</td>\n",
              "      <td>68.806046</td>\n",
              "      <td>10.020498</td>\n",
              "      <td>0.298566</td>\n",
              "      <td>...</td>\n",
              "      <td>0</td>\n",
              "      <td>0</td>\n",
              "      <td>0</td>\n",
              "      <td>0</td>\n",
              "      <td>0</td>\n",
              "      <td>0</td>\n",
              "      <td>0</td>\n",
              "      <td>0</td>\n",
              "      <td>0</td>\n",
              "      <td>0</td>\n",
              "      <td>0</td>\n",
              "      <td>0</td>\n",
              "      <td>0</td>\n",
              "      <td>0</td>\n",
              "      <td>0</td>\n",
              "      <td>0</td>\n",
              "      <td>0</td>\n",
              "      <td>0</td>\n",
              "      <td>0</td>\n",
              "      <td>0</td>\n",
              "      <td>0</td>\n",
              "      <td>0</td>\n",
              "      <td>0</td>\n",
              "      <td>0</td>\n",
              "      <td>0</td>\n",
              "      <td>0</td>\n",
              "      <td>0</td>\n",
              "      <td>0</td>\n",
              "      <td>0</td>\n",
              "      <td>0</td>\n",
              "      <td>0</td>\n",
              "      <td>0</td>\n",
              "      <td>0</td>\n",
              "      <td>0</td>\n",
              "      <td>0</td>\n",
              "      <td>0</td>\n",
              "      <td>0</td>\n",
              "      <td>0</td>\n",
              "      <td>0.343706</td>\n",
              "      <td>-2.06</td>\n",
              "    </tr>\n",
              "    <tr>\n",
              "      <th>3</th>\n",
              "      <td>2.041379</td>\n",
              "      <td>1071.547817</td>\n",
              "      <td>14.518297</td>\n",
              "      <td>12.082904</td>\n",
              "      <td>12.082904</td>\n",
              "      <td>10.915816</td>\n",
              "      <td>7.636751</td>\n",
              "      <td>7.636751</td>\n",
              "      <td>5.829201</td>\n",
              "      <td>5.829201</td>\n",
              "      <td>4.648219</td>\n",
              "      <td>4.648219</td>\n",
              "      <td>3.586716</td>\n",
              "      <td>3.586716</td>\n",
              "      <td>0.000000</td>\n",
              "      <td>0.000000</td>\n",
              "      <td>0.0</td>\n",
              "      <td>0.00000</td>\n",
              "      <td>0.000000</td>\n",
              "      <td>0.000000</td>\n",
              "      <td>43.089794</td>\n",
              "      <td>0.000000</td>\n",
              "      <td>0.000000</td>\n",
              "      <td>84.929139</td>\n",
              "      <td>0.000000</td>\n",
              "      <td>278.109550</td>\n",
              "      <td>0.272727</td>\n",
              "      <td>0.636364</td>\n",
              "      <td>1.136364</td>\n",
              "      <td>0.000000</td>\n",
              "      <td>-2.86</td>\n",
              "      <td>22</td>\n",
              "      <td>264.242</td>\n",
              "      <td>2.961396e+05</td>\n",
              "      <td>11.762233</td>\n",
              "      <td>4.315741</td>\n",
              "      <td>1.523286</td>\n",
              "      <td>128.158061</td>\n",
              "      <td>2.270278</td>\n",
              "      <td>0.061629</td>\n",
              "      <td>...</td>\n",
              "      <td>0</td>\n",
              "      <td>0</td>\n",
              "      <td>0</td>\n",
              "      <td>0</td>\n",
              "      <td>0</td>\n",
              "      <td>0</td>\n",
              "      <td>0</td>\n",
              "      <td>0</td>\n",
              "      <td>0</td>\n",
              "      <td>0</td>\n",
              "      <td>0</td>\n",
              "      <td>0</td>\n",
              "      <td>0</td>\n",
              "      <td>0</td>\n",
              "      <td>0</td>\n",
              "      <td>0</td>\n",
              "      <td>0</td>\n",
              "      <td>0</td>\n",
              "      <td>0</td>\n",
              "      <td>0</td>\n",
              "      <td>0</td>\n",
              "      <td>0</td>\n",
              "      <td>0</td>\n",
              "      <td>0</td>\n",
              "      <td>0</td>\n",
              "      <td>0</td>\n",
              "      <td>0</td>\n",
              "      <td>0</td>\n",
              "      <td>0</td>\n",
              "      <td>0</td>\n",
              "      <td>0</td>\n",
              "      <td>0</td>\n",
              "      <td>0</td>\n",
              "      <td>0</td>\n",
              "      <td>0</td>\n",
              "      <td>0</td>\n",
              "      <td>0</td>\n",
              "      <td>0</td>\n",
              "      <td>0.291526</td>\n",
              "      <td>-7.87</td>\n",
              "    </tr>\n",
              "    <tr>\n",
              "      <th>4</th>\n",
              "      <td>3.125000</td>\n",
              "      <td>60.124818</td>\n",
              "      <td>3.535534</td>\n",
              "      <td>2.717649</td>\n",
              "      <td>3.534146</td>\n",
              "      <td>2.500000</td>\n",
              "      <td>1.471405</td>\n",
              "      <td>2.414214</td>\n",
              "      <td>0.793148</td>\n",
              "      <td>1.609645</td>\n",
              "      <td>0.425381</td>\n",
              "      <td>1.053920</td>\n",
              "      <td>0.226805</td>\n",
              "      <td>0.680414</td>\n",
              "      <td>0.000000</td>\n",
              "      <td>0.000000</td>\n",
              "      <td>0.0</td>\n",
              "      <td>0.00000</td>\n",
              "      <td>0.000000</td>\n",
              "      <td>0.000000</td>\n",
              "      <td>0.000000</td>\n",
              "      <td>11.336786</td>\n",
              "      <td>22.892860</td>\n",
              "      <td>0.000000</td>\n",
              "      <td>0.000000</td>\n",
              "      <td>84.003371</td>\n",
              "      <td>1.000000</td>\n",
              "      <td>1.600000</td>\n",
              "      <td>1.800000</td>\n",
              "      <td>0.000000</td>\n",
              "      <td>-0.30</td>\n",
              "      <td>5</td>\n",
              "      <td>80.111</td>\n",
              "      <td>2.288644e+01</td>\n",
              "      <td>2.912766</td>\n",
              "      <td>1.221050</td>\n",
              "      <td>0.484065</td>\n",
              "      <td>35.071766</td>\n",
              "      <td>2.041667</td>\n",
              "      <td>0.152454</td>\n",
              "      <td>...</td>\n",
              "      <td>0</td>\n",
              "      <td>0</td>\n",
              "      <td>0</td>\n",
              "      <td>0</td>\n",
              "      <td>0</td>\n",
              "      <td>0</td>\n",
              "      <td>0</td>\n",
              "      <td>0</td>\n",
              "      <td>0</td>\n",
              "      <td>0</td>\n",
              "      <td>0</td>\n",
              "      <td>0</td>\n",
              "      <td>0</td>\n",
              "      <td>0</td>\n",
              "      <td>0</td>\n",
              "      <td>0</td>\n",
              "      <td>0</td>\n",
              "      <td>0</td>\n",
              "      <td>0</td>\n",
              "      <td>0</td>\n",
              "      <td>0</td>\n",
              "      <td>0</td>\n",
              "      <td>0</td>\n",
              "      <td>0</td>\n",
              "      <td>0</td>\n",
              "      <td>0</td>\n",
              "      <td>0</td>\n",
              "      <td>0</td>\n",
              "      <td>0</td>\n",
              "      <td>0</td>\n",
              "      <td>0</td>\n",
              "      <td>0</td>\n",
              "      <td>0</td>\n",
              "      <td>0</td>\n",
              "      <td>0</td>\n",
              "      <td>1</td>\n",
              "      <td>0</td>\n",
              "      <td>0</td>\n",
              "      <td>0.448927</td>\n",
              "      <td>-1.33</td>\n",
              "    </tr>\n",
              "  </tbody>\n",
              "</table>\n",
              "<p>5 rows × 201 columns</p>\n",
              "</div>"
            ],
            "text/plain": [
              "   BalabanJ      BertzCT       Chi0  ...  fr_urea       qed  target\n",
              "0  1.654937   759.662938  23.413485  ...        0  0.217518   -0.77\n",
              "1  2.148162   459.484175  10.673362  ...        0  0.811283   -3.30\n",
              "2  3.625760   171.311799   8.690234  ...        0  0.343706   -2.06\n",
              "3  2.041379  1071.547817  14.518297  ...        0  0.291526   -7.87\n",
              "4  3.125000    60.124818   3.535534  ...        0  0.448927   -1.33\n",
              "\n",
              "[5 rows x 201 columns]"
            ]
          },
          "metadata": {
            "tags": []
          },
          "execution_count": 18
        }
      ]
    },
    {
      "cell_type": "code",
      "metadata": {
        "id": "6zcq1M31gQrl"
      },
      "source": [
        "train_data, test_data = train_test_split(data_feats)\n",
        "X = train_data.drop('target', axis=1)\n",
        "y = train_data['target']\n",
        "\n",
        "train_data_lip, test_data_lip = train_test_split(data_feats_lip)\n",
        "X_lip = train_data_lip.drop('target', axis=1)\n",
        "y_lip = train_data_lip['target']"
      ],
      "execution_count": 53,
      "outputs": []
    },
    {
      "cell_type": "markdown",
      "metadata": {
        "id": "CiJ3jZQbjQks"
      },
      "source": [
        "# Создание модели"
      ]
    },
    {
      "cell_type": "code",
      "metadata": {
        "id": "frGrbs3kjTSw"
      },
      "source": [
        "from xgboost import XGBRegressor"
      ],
      "execution_count": 54,
      "outputs": []
    },
    {
      "cell_type": "code",
      "metadata": {
        "id": "FmnGpXOFjcM2"
      },
      "source": [
        "regr = XGBRegressor()"
      ],
      "execution_count": 55,
      "outputs": []
    },
    {
      "cell_type": "markdown",
      "metadata": {
        "id": "XRQIa2dTihRZ"
      },
      "source": [
        "# Обучение и валидация"
      ]
    },
    {
      "cell_type": "markdown",
      "metadata": {
        "id": "ccWrXbUhjlM6"
      },
      "source": [
        "![alt text](https://drive.google.com/uc?id=1Ilkmp248M0kKA3wFJQNQcNEY9OFsVoWz)"
      ]
    },
    {
      "cell_type": "markdown",
      "metadata": {
        "id": "toekcIg5jom3"
      },
      "source": [
        "Стандартно для правильной валидации модели используют отложенную выборку. То есть мы разбиваем наши данные на **тренировочную** выборку, **тестовую** выборку и **отложенную** выборку. Соответственно, обучаем модель на тренировочной, в ходе обучения проверяем результат на тестовой выборке, а в конце обучения, чтобы оценить качество модели, ошибку считаем на отложенной выборке."
      ]
    },
    {
      "cell_type": "markdown",
      "metadata": {
        "id": "C5EBrrkdjsvC"
      },
      "source": [
        "<a href=\"https://drive.google.com/uc?id=1jAZLpihYxu_FPvN9PIJ1G4S_KvO_6Ku6\n",
        "\" target=\"_blank\"><img src=\"https://drive.google.com/uc?id=1wgVvskPBQJgiRwpsHUmUOS-MhfBatsWy\" \n",
        "alt=\"IMAGE ALT TEXT HERE\" width=\"480\" border=\"0\" /></a>\n",
        "\n",
        "*Замечание:* тестовая и отложенная выборка могут совпадать. Главное - на этой части данных модель не обучается!\n"
      ]
    },
    {
      "cell_type": "markdown",
      "metadata": {
        "id": "Bm3flsBNjw9D"
      },
      "source": [
        "Однако, при таком подходе в обучении модели участвует только тренировочная выборка. Тестовую и отложенную мы используем только для проверки. Если у нас мало данных - это непозволительная роскошь. \n",
        "\n",
        "Другой популярный подход это **кросс-валидация** или скользящий контроль. Суть метода заключается в том, что мы делаем не одно разбиение датесета, а несколько разбиений таким образом, чтобы все данные использовались и в обучении и для проверки. Такие разбиения называются **фолдами**. \n",
        "\n",
        "<a href=\"https://drive.google.com/uc?id=1jAZLpihYxu_FPvN9PIJ1G4S_KvO_6Ku6\n",
        "\" target=\"_blank\"><img src=\"https://drive.google.com/uc?id=14fZpuBDsTMqv1XtLJvcKMNNa1vlr_ZG6\" \n",
        "alt=\"IMAGE ALT TEXT HERE\" width=\"600\" border=\"0\" /></a>\n",
        "\n",
        "\n",
        "Преимущества такого подхода:\n",
        "* используем все данные для обучения;\n",
        "* можем оценить устойчивость модели. Если ошибки полученные на разных фолдах сильно отличаются, что модель неустойчива.\n",
        "\n",
        "Недостаток метода в том, что нам нужно обучать не одну модель, а несколько (столько, сколько мы выбрали фолдов).\n",
        "\n",
        "На практике часто выбирают 5 фолдов."
      ]
    },
    {
      "cell_type": "code",
      "metadata": {
        "id": "tAS_jh3gicuN"
      },
      "source": [
        "from sklearn.model_selection import KFold, cross_val_score"
      ],
      "execution_count": 56,
      "outputs": []
    },
    {
      "cell_type": "code",
      "metadata": {
        "id": "j-W9ENVRigmQ"
      },
      "source": [
        "# создать делитель для кросс-валидации\n",
        "kf = KFold(n_splits=5)"
      ],
      "execution_count": 57,
      "outputs": []
    },
    {
      "cell_type": "markdown",
      "metadata": {
        "id": "4ouDtWUzj_nq"
      },
      "source": [
        "Функция `cross_val_score` воспроизводит разбиение, обучение и тестирование в соответствие с типом и параметрами передаваемого в нее валидатора. \n",
        "\n",
        "В нее передаем оцениваемую модель, таблицу входных данных, выходную переменную, способ разделения данных (фолды) и метрику, которую мы хотим оценить. В данном случае мы хотим оценить **r2_score**.\n",
        "\n",
        "На выходе получим значения метрик. Так как мы передали в `KFold` с параметром **n_splits=5**, то и значений мы получим **5**."
      ]
    },
    {
      "cell_type": "code",
      "metadata": {
        "id": "Lzq6O-NNj6Fo",
        "colab": {
          "base_uri": "https://localhost:8080/"
        },
        "outputId": "64d20e38-9b4e-4f47-ea10-754a688d6b0b"
      },
      "source": [
        "# посчитать rmse метрику для модели\n",
        "import numpy as np\n",
        "vals = cross_val_score(regr, X, y, cv=kf, scoring='neg_root_mean_squared_error')\n",
        "print(vals)\n",
        "print(np.mean(vals), np.std(vals))"
      ],
      "execution_count": 31,
      "outputs": [
        {
          "output_type": "stream",
          "text": [
            "[09:43:09] WARNING: /workspace/src/objective/regression_obj.cu:152: reg:linear is now deprecated in favor of reg:squarederror.\n",
            "[09:43:10] WARNING: /workspace/src/objective/regression_obj.cu:152: reg:linear is now deprecated in favor of reg:squarederror.\n",
            "[09:43:10] WARNING: /workspace/src/objective/regression_obj.cu:152: reg:linear is now deprecated in favor of reg:squarederror.\n",
            "[09:43:11] WARNING: /workspace/src/objective/regression_obj.cu:152: reg:linear is now deprecated in favor of reg:squarederror.\n",
            "[09:43:11] WARNING: /workspace/src/objective/regression_obj.cu:152: reg:linear is now deprecated in favor of reg:squarederror.\n",
            "[-0.69889014 -0.6128675  -0.76580634 -0.64499144 -0.59660251]\n",
            "-0.6638315843431948 0.06180613124942473\n"
          ],
          "name": "stdout"
        }
      ]
    },
    {
      "cell_type": "markdown",
      "metadata": {
        "id": "zxc4WjQnkSqD"
      },
      "source": [
        "# Поиск по сетке"
      ]
    },
    {
      "cell_type": "markdown",
      "metadata": {
        "id": "q7XpJHXnkYIv"
      },
      "source": [
        "\n",
        "\n",
        "<a href=\"https://drive.google.com/uc?id=1Goc0VR5I--q9rYj-vYlmddanKP3-3sLJ\n",
        "\" target=\"_blank\"><img src=\"https://drive.google.com/uc?id=1Goc0VR5I--q9rYj-vYlmddanKP3-3sLJ\" \n",
        "alt=\"IMAGE ALT TEXT HERE\" width=\"480\" border=\"0\" /></a>\n"
      ]
    },
    {
      "cell_type": "markdown",
      "metadata": {
        "id": "WzOq-GXWkqSa"
      },
      "source": [
        "## Поиск по сетке. \n",
        "\n",
        "Вместо того, чтобы перебирать параметры руками, можно использовать метод **поиска по сетке** (Grid Search). В процессе поиска по сетке мы указываем варианты каждого из параметров, которые хотим перебрать, а функция смотрит на все их возможные варианты и выдает лучший набор в зависимости от выбранной метрики. Например, на картинке ниже перебираются параметры \"регуляризация\" и \"скорость обучения\".\n",
        "\n",
        "<a href=\"https://drive.google.com/uc?id=1jAZLpihYxu_FPvN9PIJ1G4S_KvO_6Ku6\n",
        "\" target=\"_blank\"><img src=\"https://drive.google.com/uc?id=1FhZpRMWuzCXQs1DDdTn11hjmH3MS6C6j\" \n",
        "alt=\"IMAGE ALT TEXT HERE\" width=\"600\" border=\"0\" /></a>\n",
        "\n",
        "Поиск по сетке реализован в **sklearn**, импортируем его:"
      ]
    },
    {
      "cell_type": "code",
      "metadata": {
        "id": "TU5UFEeEkmi4"
      },
      "source": [
        "from sklearn.model_selection import GridSearchCV\n"
      ],
      "execution_count": 58,
      "outputs": []
    },
    {
      "cell_type": "code",
      "metadata": {
        "id": "SBFXLqPVkvN6",
        "colab": {
          "base_uri": "https://localhost:8080/",
          "height": 534
        },
        "outputId": "52504ab3-3af2-4485-d814-7ba65aab7aec"
      },
      "source": [
        "# сделайте поиск по сетке\n",
        "clf = GridSearchCV(regr, scoring='neg_root_mean_squared_error', param_grid = {\n",
        "    \"max_depth\": [3,5,7,9], \n",
        "    \"n_estimators\": [50,100,150,200],\n",
        "})\n",
        "clf.fit(X, y)\n",
        "res = clf.get_params()"
      ],
      "execution_count": 59,
      "outputs": [
        {
          "output_type": "stream",
          "text": [
            "[10:04:28] WARNING: /workspace/src/objective/regression_obj.cu:152: reg:linear is now deprecated in favor of reg:squarederror.\n",
            "[10:04:29] WARNING: /workspace/src/objective/regression_obj.cu:152: reg:linear is now deprecated in favor of reg:squarederror.\n",
            "[10:04:29] WARNING: /workspace/src/objective/regression_obj.cu:152: reg:linear is now deprecated in favor of reg:squarederror.\n",
            "[10:04:29] WARNING: /workspace/src/objective/regression_obj.cu:152: reg:linear is now deprecated in favor of reg:squarederror.\n",
            "[10:04:29] WARNING: /workspace/src/objective/regression_obj.cu:152: reg:linear is now deprecated in favor of reg:squarederror.\n",
            "[10:04:30] WARNING: /workspace/src/objective/regression_obj.cu:152: reg:linear is now deprecated in favor of reg:squarederror.\n",
            "[10:04:30] WARNING: /workspace/src/objective/regression_obj.cu:152: reg:linear is now deprecated in favor of reg:squarederror.\n",
            "[10:04:31] WARNING: /workspace/src/objective/regression_obj.cu:152: reg:linear is now deprecated in favor of reg:squarederror.\n"
          ],
          "name": "stdout"
        },
        {
          "output_type": "error",
          "ename": "KeyboardInterrupt",
          "evalue": "ignored",
          "traceback": [
            "\u001b[0;31m---------------------------------------------------------------------------\u001b[0m",
            "\u001b[0;31mKeyboardInterrupt\u001b[0m                         Traceback (most recent call last)",
            "\u001b[0;32m<ipython-input-59-e7d912f4e67b>\u001b[0m in \u001b[0;36m<module>\u001b[0;34m()\u001b[0m\n\u001b[1;32m      4\u001b[0m     \u001b[0;34m\"n_estimators\"\u001b[0m\u001b[0;34m:\u001b[0m \u001b[0;34m[\u001b[0m\u001b[0;36m50\u001b[0m\u001b[0;34m,\u001b[0m\u001b[0;36m100\u001b[0m\u001b[0;34m,\u001b[0m\u001b[0;36m150\u001b[0m\u001b[0;34m,\u001b[0m\u001b[0;36m200\u001b[0m\u001b[0;34m]\u001b[0m\u001b[0;34m,\u001b[0m\u001b[0;34m\u001b[0m\u001b[0;34m\u001b[0m\u001b[0m\n\u001b[1;32m      5\u001b[0m })\n\u001b[0;32m----> 6\u001b[0;31m \u001b[0mclf\u001b[0m\u001b[0;34m.\u001b[0m\u001b[0mfit\u001b[0m\u001b[0;34m(\u001b[0m\u001b[0mX\u001b[0m\u001b[0;34m,\u001b[0m \u001b[0my\u001b[0m\u001b[0;34m)\u001b[0m\u001b[0;34m\u001b[0m\u001b[0;34m\u001b[0m\u001b[0m\n\u001b[0m\u001b[1;32m      7\u001b[0m \u001b[0mres\u001b[0m \u001b[0;34m=\u001b[0m \u001b[0mclf\u001b[0m\u001b[0;34m.\u001b[0m\u001b[0mget_params\u001b[0m\u001b[0;34m(\u001b[0m\u001b[0;34m)\u001b[0m\u001b[0;34m\u001b[0m\u001b[0;34m\u001b[0m\u001b[0m\n",
            "\u001b[0;32m/usr/local/lib/python3.7/dist-packages/sklearn/model_selection/_search.py\u001b[0m in \u001b[0;36mfit\u001b[0;34m(self, X, y, groups, **fit_params)\u001b[0m\n\u001b[1;32m    708\u001b[0m                 \u001b[0;32mreturn\u001b[0m \u001b[0mresults\u001b[0m\u001b[0;34m\u001b[0m\u001b[0;34m\u001b[0m\u001b[0m\n\u001b[1;32m    709\u001b[0m \u001b[0;34m\u001b[0m\u001b[0m\n\u001b[0;32m--> 710\u001b[0;31m             \u001b[0mself\u001b[0m\u001b[0;34m.\u001b[0m\u001b[0m_run_search\u001b[0m\u001b[0;34m(\u001b[0m\u001b[0mevaluate_candidates\u001b[0m\u001b[0;34m)\u001b[0m\u001b[0;34m\u001b[0m\u001b[0;34m\u001b[0m\u001b[0m\n\u001b[0m\u001b[1;32m    711\u001b[0m \u001b[0;34m\u001b[0m\u001b[0m\n\u001b[1;32m    712\u001b[0m         \u001b[0;31m# For multi-metric evaluation, store the best_index_, best_params_ and\u001b[0m\u001b[0;34m\u001b[0m\u001b[0;34m\u001b[0m\u001b[0;34m\u001b[0m\u001b[0m\n",
            "\u001b[0;32m/usr/local/lib/python3.7/dist-packages/sklearn/model_selection/_search.py\u001b[0m in \u001b[0;36m_run_search\u001b[0;34m(self, evaluate_candidates)\u001b[0m\n\u001b[1;32m   1149\u001b[0m     \u001b[0;32mdef\u001b[0m \u001b[0m_run_search\u001b[0m\u001b[0;34m(\u001b[0m\u001b[0mself\u001b[0m\u001b[0;34m,\u001b[0m \u001b[0mevaluate_candidates\u001b[0m\u001b[0;34m)\u001b[0m\u001b[0;34m:\u001b[0m\u001b[0;34m\u001b[0m\u001b[0;34m\u001b[0m\u001b[0m\n\u001b[1;32m   1150\u001b[0m         \u001b[0;34m\"\"\"Search all candidates in param_grid\"\"\"\u001b[0m\u001b[0;34m\u001b[0m\u001b[0;34m\u001b[0m\u001b[0m\n\u001b[0;32m-> 1151\u001b[0;31m         \u001b[0mevaluate_candidates\u001b[0m\u001b[0;34m(\u001b[0m\u001b[0mParameterGrid\u001b[0m\u001b[0;34m(\u001b[0m\u001b[0mself\u001b[0m\u001b[0;34m.\u001b[0m\u001b[0mparam_grid\u001b[0m\u001b[0;34m)\u001b[0m\u001b[0;34m)\u001b[0m\u001b[0;34m\u001b[0m\u001b[0;34m\u001b[0m\u001b[0m\n\u001b[0m\u001b[1;32m   1152\u001b[0m \u001b[0;34m\u001b[0m\u001b[0m\n\u001b[1;32m   1153\u001b[0m \u001b[0;34m\u001b[0m\u001b[0m\n",
            "\u001b[0;32m/usr/local/lib/python3.7/dist-packages/sklearn/model_selection/_search.py\u001b[0m in \u001b[0;36mevaluate_candidates\u001b[0;34m(candidate_params)\u001b[0m\n\u001b[1;32m    687\u001b[0m                                \u001b[0;32mfor\u001b[0m \u001b[0mparameters\u001b[0m\u001b[0;34m,\u001b[0m \u001b[0;34m(\u001b[0m\u001b[0mtrain\u001b[0m\u001b[0;34m,\u001b[0m \u001b[0mtest\u001b[0m\u001b[0;34m)\u001b[0m\u001b[0;34m\u001b[0m\u001b[0;34m\u001b[0m\u001b[0m\n\u001b[1;32m    688\u001b[0m                                in product(candidate_params,\n\u001b[0;32m--> 689\u001b[0;31m                                           cv.split(X, y, groups)))\n\u001b[0m\u001b[1;32m    690\u001b[0m \u001b[0;34m\u001b[0m\u001b[0m\n\u001b[1;32m    691\u001b[0m                 \u001b[0;32mif\u001b[0m \u001b[0mlen\u001b[0m\u001b[0;34m(\u001b[0m\u001b[0mout\u001b[0m\u001b[0;34m)\u001b[0m \u001b[0;34m<\u001b[0m \u001b[0;36m1\u001b[0m\u001b[0;34m:\u001b[0m\u001b[0;34m\u001b[0m\u001b[0;34m\u001b[0m\u001b[0m\n",
            "\u001b[0;32m/usr/local/lib/python3.7/dist-packages/joblib/parallel.py\u001b[0m in \u001b[0;36m__call__\u001b[0;34m(self, iterable)\u001b[0m\n\u001b[1;32m   1042\u001b[0m                 \u001b[0mself\u001b[0m\u001b[0;34m.\u001b[0m\u001b[0m_iterating\u001b[0m \u001b[0;34m=\u001b[0m \u001b[0mself\u001b[0m\u001b[0;34m.\u001b[0m\u001b[0m_original_iterator\u001b[0m \u001b[0;32mis\u001b[0m \u001b[0;32mnot\u001b[0m \u001b[0;32mNone\u001b[0m\u001b[0;34m\u001b[0m\u001b[0;34m\u001b[0m\u001b[0m\n\u001b[1;32m   1043\u001b[0m \u001b[0;34m\u001b[0m\u001b[0m\n\u001b[0;32m-> 1044\u001b[0;31m             \u001b[0;32mwhile\u001b[0m \u001b[0mself\u001b[0m\u001b[0;34m.\u001b[0m\u001b[0mdispatch_one_batch\u001b[0m\u001b[0;34m(\u001b[0m\u001b[0miterator\u001b[0m\u001b[0;34m)\u001b[0m\u001b[0;34m:\u001b[0m\u001b[0;34m\u001b[0m\u001b[0;34m\u001b[0m\u001b[0m\n\u001b[0m\u001b[1;32m   1045\u001b[0m                 \u001b[0;32mpass\u001b[0m\u001b[0;34m\u001b[0m\u001b[0;34m\u001b[0m\u001b[0m\n\u001b[1;32m   1046\u001b[0m \u001b[0;34m\u001b[0m\u001b[0m\n",
            "\u001b[0;32m/usr/local/lib/python3.7/dist-packages/joblib/parallel.py\u001b[0m in \u001b[0;36mdispatch_one_batch\u001b[0;34m(self, iterator)\u001b[0m\n\u001b[1;32m    857\u001b[0m                 \u001b[0;32mreturn\u001b[0m \u001b[0;32mFalse\u001b[0m\u001b[0;34m\u001b[0m\u001b[0;34m\u001b[0m\u001b[0m\n\u001b[1;32m    858\u001b[0m             \u001b[0;32melse\u001b[0m\u001b[0;34m:\u001b[0m\u001b[0;34m\u001b[0m\u001b[0;34m\u001b[0m\u001b[0m\n\u001b[0;32m--> 859\u001b[0;31m                 \u001b[0mself\u001b[0m\u001b[0;34m.\u001b[0m\u001b[0m_dispatch\u001b[0m\u001b[0;34m(\u001b[0m\u001b[0mtasks\u001b[0m\u001b[0;34m)\u001b[0m\u001b[0;34m\u001b[0m\u001b[0;34m\u001b[0m\u001b[0m\n\u001b[0m\u001b[1;32m    860\u001b[0m                 \u001b[0;32mreturn\u001b[0m \u001b[0;32mTrue\u001b[0m\u001b[0;34m\u001b[0m\u001b[0;34m\u001b[0m\u001b[0m\n\u001b[1;32m    861\u001b[0m \u001b[0;34m\u001b[0m\u001b[0m\n",
            "\u001b[0;32m/usr/local/lib/python3.7/dist-packages/joblib/parallel.py\u001b[0m in \u001b[0;36m_dispatch\u001b[0;34m(self, batch)\u001b[0m\n\u001b[1;32m    775\u001b[0m         \u001b[0;32mwith\u001b[0m \u001b[0mself\u001b[0m\u001b[0;34m.\u001b[0m\u001b[0m_lock\u001b[0m\u001b[0;34m:\u001b[0m\u001b[0;34m\u001b[0m\u001b[0;34m\u001b[0m\u001b[0m\n\u001b[1;32m    776\u001b[0m             \u001b[0mjob_idx\u001b[0m \u001b[0;34m=\u001b[0m \u001b[0mlen\u001b[0m\u001b[0;34m(\u001b[0m\u001b[0mself\u001b[0m\u001b[0;34m.\u001b[0m\u001b[0m_jobs\u001b[0m\u001b[0;34m)\u001b[0m\u001b[0;34m\u001b[0m\u001b[0;34m\u001b[0m\u001b[0m\n\u001b[0;32m--> 777\u001b[0;31m             \u001b[0mjob\u001b[0m \u001b[0;34m=\u001b[0m \u001b[0mself\u001b[0m\u001b[0;34m.\u001b[0m\u001b[0m_backend\u001b[0m\u001b[0;34m.\u001b[0m\u001b[0mapply_async\u001b[0m\u001b[0;34m(\u001b[0m\u001b[0mbatch\u001b[0m\u001b[0;34m,\u001b[0m \u001b[0mcallback\u001b[0m\u001b[0;34m=\u001b[0m\u001b[0mcb\u001b[0m\u001b[0;34m)\u001b[0m\u001b[0;34m\u001b[0m\u001b[0;34m\u001b[0m\u001b[0m\n\u001b[0m\u001b[1;32m    778\u001b[0m             \u001b[0;31m# A job can complete so quickly than its callback is\u001b[0m\u001b[0;34m\u001b[0m\u001b[0;34m\u001b[0m\u001b[0;34m\u001b[0m\u001b[0m\n\u001b[1;32m    779\u001b[0m             \u001b[0;31m# called before we get here, causing self._jobs to\u001b[0m\u001b[0;34m\u001b[0m\u001b[0;34m\u001b[0m\u001b[0;34m\u001b[0m\u001b[0m\n",
            "\u001b[0;32m/usr/local/lib/python3.7/dist-packages/joblib/_parallel_backends.py\u001b[0m in \u001b[0;36mapply_async\u001b[0;34m(self, func, callback)\u001b[0m\n\u001b[1;32m    206\u001b[0m     \u001b[0;32mdef\u001b[0m \u001b[0mapply_async\u001b[0m\u001b[0;34m(\u001b[0m\u001b[0mself\u001b[0m\u001b[0;34m,\u001b[0m \u001b[0mfunc\u001b[0m\u001b[0;34m,\u001b[0m \u001b[0mcallback\u001b[0m\u001b[0;34m=\u001b[0m\u001b[0;32mNone\u001b[0m\u001b[0;34m)\u001b[0m\u001b[0;34m:\u001b[0m\u001b[0;34m\u001b[0m\u001b[0;34m\u001b[0m\u001b[0m\n\u001b[1;32m    207\u001b[0m         \u001b[0;34m\"\"\"Schedule a func to be run\"\"\"\u001b[0m\u001b[0;34m\u001b[0m\u001b[0;34m\u001b[0m\u001b[0m\n\u001b[0;32m--> 208\u001b[0;31m         \u001b[0mresult\u001b[0m \u001b[0;34m=\u001b[0m \u001b[0mImmediateResult\u001b[0m\u001b[0;34m(\u001b[0m\u001b[0mfunc\u001b[0m\u001b[0;34m)\u001b[0m\u001b[0;34m\u001b[0m\u001b[0;34m\u001b[0m\u001b[0m\n\u001b[0m\u001b[1;32m    209\u001b[0m         \u001b[0;32mif\u001b[0m \u001b[0mcallback\u001b[0m\u001b[0;34m:\u001b[0m\u001b[0;34m\u001b[0m\u001b[0;34m\u001b[0m\u001b[0m\n\u001b[1;32m    210\u001b[0m             \u001b[0mcallback\u001b[0m\u001b[0;34m(\u001b[0m\u001b[0mresult\u001b[0m\u001b[0;34m)\u001b[0m\u001b[0;34m\u001b[0m\u001b[0;34m\u001b[0m\u001b[0m\n",
            "\u001b[0;32m/usr/local/lib/python3.7/dist-packages/joblib/_parallel_backends.py\u001b[0m in \u001b[0;36m__init__\u001b[0;34m(self, batch)\u001b[0m\n\u001b[1;32m    570\u001b[0m         \u001b[0;31m# Don't delay the application, to avoid keeping the input\u001b[0m\u001b[0;34m\u001b[0m\u001b[0;34m\u001b[0m\u001b[0;34m\u001b[0m\u001b[0m\n\u001b[1;32m    571\u001b[0m         \u001b[0;31m# arguments in memory\u001b[0m\u001b[0;34m\u001b[0m\u001b[0;34m\u001b[0m\u001b[0;34m\u001b[0m\u001b[0m\n\u001b[0;32m--> 572\u001b[0;31m         \u001b[0mself\u001b[0m\u001b[0;34m.\u001b[0m\u001b[0mresults\u001b[0m \u001b[0;34m=\u001b[0m \u001b[0mbatch\u001b[0m\u001b[0;34m(\u001b[0m\u001b[0;34m)\u001b[0m\u001b[0;34m\u001b[0m\u001b[0;34m\u001b[0m\u001b[0m\n\u001b[0m\u001b[1;32m    573\u001b[0m \u001b[0;34m\u001b[0m\u001b[0m\n\u001b[1;32m    574\u001b[0m     \u001b[0;32mdef\u001b[0m \u001b[0mget\u001b[0m\u001b[0;34m(\u001b[0m\u001b[0mself\u001b[0m\u001b[0;34m)\u001b[0m\u001b[0;34m:\u001b[0m\u001b[0;34m\u001b[0m\u001b[0;34m\u001b[0m\u001b[0m\n",
            "\u001b[0;32m/usr/local/lib/python3.7/dist-packages/joblib/parallel.py\u001b[0m in \u001b[0;36m__call__\u001b[0;34m(self)\u001b[0m\n\u001b[1;32m    261\u001b[0m         \u001b[0;32mwith\u001b[0m \u001b[0mparallel_backend\u001b[0m\u001b[0;34m(\u001b[0m\u001b[0mself\u001b[0m\u001b[0;34m.\u001b[0m\u001b[0m_backend\u001b[0m\u001b[0;34m,\u001b[0m \u001b[0mn_jobs\u001b[0m\u001b[0;34m=\u001b[0m\u001b[0mself\u001b[0m\u001b[0;34m.\u001b[0m\u001b[0m_n_jobs\u001b[0m\u001b[0;34m)\u001b[0m\u001b[0;34m:\u001b[0m\u001b[0;34m\u001b[0m\u001b[0;34m\u001b[0m\u001b[0m\n\u001b[1;32m    262\u001b[0m             return [func(*args, **kwargs)\n\u001b[0;32m--> 263\u001b[0;31m                     for func, args, kwargs in self.items]\n\u001b[0m\u001b[1;32m    264\u001b[0m \u001b[0;34m\u001b[0m\u001b[0m\n\u001b[1;32m    265\u001b[0m     \u001b[0;32mdef\u001b[0m \u001b[0m__reduce__\u001b[0m\u001b[0;34m(\u001b[0m\u001b[0mself\u001b[0m\u001b[0;34m)\u001b[0m\u001b[0;34m:\u001b[0m\u001b[0;34m\u001b[0m\u001b[0;34m\u001b[0m\u001b[0m\n",
            "\u001b[0;32m/usr/local/lib/python3.7/dist-packages/joblib/parallel.py\u001b[0m in \u001b[0;36m<listcomp>\u001b[0;34m(.0)\u001b[0m\n\u001b[1;32m    261\u001b[0m         \u001b[0;32mwith\u001b[0m \u001b[0mparallel_backend\u001b[0m\u001b[0;34m(\u001b[0m\u001b[0mself\u001b[0m\u001b[0;34m.\u001b[0m\u001b[0m_backend\u001b[0m\u001b[0;34m,\u001b[0m \u001b[0mn_jobs\u001b[0m\u001b[0;34m=\u001b[0m\u001b[0mself\u001b[0m\u001b[0;34m.\u001b[0m\u001b[0m_n_jobs\u001b[0m\u001b[0;34m)\u001b[0m\u001b[0;34m:\u001b[0m\u001b[0;34m\u001b[0m\u001b[0;34m\u001b[0m\u001b[0m\n\u001b[1;32m    262\u001b[0m             return [func(*args, **kwargs)\n\u001b[0;32m--> 263\u001b[0;31m                     for func, args, kwargs in self.items]\n\u001b[0m\u001b[1;32m    264\u001b[0m \u001b[0;34m\u001b[0m\u001b[0m\n\u001b[1;32m    265\u001b[0m     \u001b[0;32mdef\u001b[0m \u001b[0m__reduce__\u001b[0m\u001b[0;34m(\u001b[0m\u001b[0mself\u001b[0m\u001b[0;34m)\u001b[0m\u001b[0;34m:\u001b[0m\u001b[0;34m\u001b[0m\u001b[0;34m\u001b[0m\u001b[0m\n",
            "\u001b[0;32m/usr/local/lib/python3.7/dist-packages/sklearn/model_selection/_validation.py\u001b[0m in \u001b[0;36m_fit_and_score\u001b[0;34m(estimator, X, y, scorer, train, test, verbose, parameters, fit_params, return_train_score, return_parameters, return_n_test_samples, return_times, return_estimator, error_score)\u001b[0m\n\u001b[1;32m    513\u001b[0m             \u001b[0mestimator\u001b[0m\u001b[0;34m.\u001b[0m\u001b[0mfit\u001b[0m\u001b[0;34m(\u001b[0m\u001b[0mX_train\u001b[0m\u001b[0;34m,\u001b[0m \u001b[0;34m**\u001b[0m\u001b[0mfit_params\u001b[0m\u001b[0;34m)\u001b[0m\u001b[0;34m\u001b[0m\u001b[0;34m\u001b[0m\u001b[0m\n\u001b[1;32m    514\u001b[0m         \u001b[0;32melse\u001b[0m\u001b[0;34m:\u001b[0m\u001b[0;34m\u001b[0m\u001b[0;34m\u001b[0m\u001b[0m\n\u001b[0;32m--> 515\u001b[0;31m             \u001b[0mestimator\u001b[0m\u001b[0;34m.\u001b[0m\u001b[0mfit\u001b[0m\u001b[0;34m(\u001b[0m\u001b[0mX_train\u001b[0m\u001b[0;34m,\u001b[0m \u001b[0my_train\u001b[0m\u001b[0;34m,\u001b[0m \u001b[0;34m**\u001b[0m\u001b[0mfit_params\u001b[0m\u001b[0;34m)\u001b[0m\u001b[0;34m\u001b[0m\u001b[0;34m\u001b[0m\u001b[0m\n\u001b[0m\u001b[1;32m    516\u001b[0m \u001b[0;34m\u001b[0m\u001b[0m\n\u001b[1;32m    517\u001b[0m     \u001b[0;32mexcept\u001b[0m \u001b[0mException\u001b[0m \u001b[0;32mas\u001b[0m \u001b[0me\u001b[0m\u001b[0;34m:\u001b[0m\u001b[0;34m\u001b[0m\u001b[0;34m\u001b[0m\u001b[0m\n",
            "\u001b[0;32m/usr/local/lib/python3.7/dist-packages/xgboost/sklearn.py\u001b[0m in \u001b[0;36mfit\u001b[0;34m(self, X, y, sample_weight, eval_set, eval_metric, early_stopping_rounds, verbose, xgb_model, sample_weight_eval_set, callbacks)\u001b[0m\n\u001b[1;32m    394\u001b[0m                               \u001b[0mevals_result\u001b[0m\u001b[0;34m=\u001b[0m\u001b[0mevals_result\u001b[0m\u001b[0;34m,\u001b[0m \u001b[0mobj\u001b[0m\u001b[0;34m=\u001b[0m\u001b[0mobj\u001b[0m\u001b[0;34m,\u001b[0m \u001b[0mfeval\u001b[0m\u001b[0;34m=\u001b[0m\u001b[0mfeval\u001b[0m\u001b[0;34m,\u001b[0m\u001b[0;34m\u001b[0m\u001b[0;34m\u001b[0m\u001b[0m\n\u001b[1;32m    395\u001b[0m                               \u001b[0mverbose_eval\u001b[0m\u001b[0;34m=\u001b[0m\u001b[0mverbose\u001b[0m\u001b[0;34m,\u001b[0m \u001b[0mxgb_model\u001b[0m\u001b[0;34m=\u001b[0m\u001b[0mxgb_model\u001b[0m\u001b[0;34m,\u001b[0m\u001b[0;34m\u001b[0m\u001b[0;34m\u001b[0m\u001b[0m\n\u001b[0;32m--> 396\u001b[0;31m                               callbacks=callbacks)\n\u001b[0m\u001b[1;32m    397\u001b[0m \u001b[0;34m\u001b[0m\u001b[0m\n\u001b[1;32m    398\u001b[0m         \u001b[0;32mif\u001b[0m \u001b[0mevals_result\u001b[0m\u001b[0;34m:\u001b[0m\u001b[0;34m\u001b[0m\u001b[0;34m\u001b[0m\u001b[0m\n",
            "\u001b[0;32m/usr/local/lib/python3.7/dist-packages/xgboost/training.py\u001b[0m in \u001b[0;36mtrain\u001b[0;34m(params, dtrain, num_boost_round, evals, obj, feval, maximize, early_stopping_rounds, evals_result, verbose_eval, xgb_model, callbacks, learning_rates)\u001b[0m\n\u001b[1;32m    214\u001b[0m                            \u001b[0mevals\u001b[0m\u001b[0;34m=\u001b[0m\u001b[0mevals\u001b[0m\u001b[0;34m,\u001b[0m\u001b[0;34m\u001b[0m\u001b[0;34m\u001b[0m\u001b[0m\n\u001b[1;32m    215\u001b[0m                            \u001b[0mobj\u001b[0m\u001b[0;34m=\u001b[0m\u001b[0mobj\u001b[0m\u001b[0;34m,\u001b[0m \u001b[0mfeval\u001b[0m\u001b[0;34m=\u001b[0m\u001b[0mfeval\u001b[0m\u001b[0;34m,\u001b[0m\u001b[0;34m\u001b[0m\u001b[0;34m\u001b[0m\u001b[0m\n\u001b[0;32m--> 216\u001b[0;31m                            xgb_model=xgb_model, callbacks=callbacks)\n\u001b[0m\u001b[1;32m    217\u001b[0m \u001b[0;34m\u001b[0m\u001b[0m\n\u001b[1;32m    218\u001b[0m \u001b[0;34m\u001b[0m\u001b[0m\n",
            "\u001b[0;32m/usr/local/lib/python3.7/dist-packages/xgboost/training.py\u001b[0m in \u001b[0;36m_train_internal\u001b[0;34m(params, dtrain, num_boost_round, evals, obj, feval, xgb_model, callbacks)\u001b[0m\n\u001b[1;32m     72\u001b[0m         \u001b[0;31m# Skip the first update if it is a recovery step.\u001b[0m\u001b[0;34m\u001b[0m\u001b[0;34m\u001b[0m\u001b[0;34m\u001b[0m\u001b[0m\n\u001b[1;32m     73\u001b[0m         \u001b[0;32mif\u001b[0m \u001b[0mversion\u001b[0m \u001b[0;34m%\u001b[0m \u001b[0;36m2\u001b[0m \u001b[0;34m==\u001b[0m \u001b[0;36m0\u001b[0m\u001b[0;34m:\u001b[0m\u001b[0;34m\u001b[0m\u001b[0;34m\u001b[0m\u001b[0m\n\u001b[0;32m---> 74\u001b[0;31m             \u001b[0mbst\u001b[0m\u001b[0;34m.\u001b[0m\u001b[0mupdate\u001b[0m\u001b[0;34m(\u001b[0m\u001b[0mdtrain\u001b[0m\u001b[0;34m,\u001b[0m \u001b[0mi\u001b[0m\u001b[0;34m,\u001b[0m \u001b[0mobj\u001b[0m\u001b[0;34m)\u001b[0m\u001b[0;34m\u001b[0m\u001b[0;34m\u001b[0m\u001b[0m\n\u001b[0m\u001b[1;32m     75\u001b[0m             \u001b[0mbst\u001b[0m\u001b[0;34m.\u001b[0m\u001b[0msave_rabit_checkpoint\u001b[0m\u001b[0;34m(\u001b[0m\u001b[0;34m)\u001b[0m\u001b[0;34m\u001b[0m\u001b[0;34m\u001b[0m\u001b[0m\n\u001b[1;32m     76\u001b[0m             \u001b[0mversion\u001b[0m \u001b[0;34m+=\u001b[0m \u001b[0;36m1\u001b[0m\u001b[0;34m\u001b[0m\u001b[0;34m\u001b[0m\u001b[0m\n",
            "\u001b[0;32m/usr/local/lib/python3.7/dist-packages/xgboost/core.py\u001b[0m in \u001b[0;36mupdate\u001b[0;34m(self, dtrain, iteration, fobj)\u001b[0m\n\u001b[1;32m   1107\u001b[0m         \u001b[0;32mif\u001b[0m \u001b[0mfobj\u001b[0m \u001b[0;32mis\u001b[0m \u001b[0;32mNone\u001b[0m\u001b[0;34m:\u001b[0m\u001b[0;34m\u001b[0m\u001b[0;34m\u001b[0m\u001b[0m\n\u001b[1;32m   1108\u001b[0m             _check_call(_LIB.XGBoosterUpdateOneIter(self.handle, ctypes.c_int(iteration),\n\u001b[0;32m-> 1109\u001b[0;31m                                                     dtrain.handle))\n\u001b[0m\u001b[1;32m   1110\u001b[0m         \u001b[0;32melse\u001b[0m\u001b[0;34m:\u001b[0m\u001b[0;34m\u001b[0m\u001b[0;34m\u001b[0m\u001b[0m\n\u001b[1;32m   1111\u001b[0m             \u001b[0mpred\u001b[0m \u001b[0;34m=\u001b[0m \u001b[0mself\u001b[0m\u001b[0;34m.\u001b[0m\u001b[0mpredict\u001b[0m\u001b[0;34m(\u001b[0m\u001b[0mdtrain\u001b[0m\u001b[0;34m)\u001b[0m\u001b[0;34m\u001b[0m\u001b[0;34m\u001b[0m\u001b[0m\n",
            "\u001b[0;31mKeyboardInterrupt\u001b[0m: "
          ]
        }
      ]
    },
    {
      "cell_type": "code",
      "metadata": {
        "colab": {
          "base_uri": "https://localhost:8080/"
        },
        "id": "CTuXSJZ7lkDq",
        "outputId": "8f3b3ddb-1177-4502-94e3-55f011566b3a"
      },
      "source": [
        "clf = GridSearchCV(regr, scoring='r2', param_grid = {\n",
        "    \"max_depth\": [3,5,7,9], \n",
        "    \"n_estimators\": [50,100,150,200],\n",
        "})\n",
        "clf.fit(X_lip, y_lip)\n",
        "res = clf.get_params()"
      ],
      "execution_count": 62,
      "outputs": [
        {
          "output_type": "stream",
          "text": [
            "[10:12:00] WARNING: /workspace/src/objective/regression_obj.cu:152: reg:linear is now deprecated in favor of reg:squarederror.\n",
            "[10:12:01] WARNING: /workspace/src/objective/regression_obj.cu:152: reg:linear is now deprecated in favor of reg:squarederror.\n",
            "[10:12:02] WARNING: /workspace/src/objective/regression_obj.cu:152: reg:linear is now deprecated in favor of reg:squarederror.\n",
            "[10:12:03] WARNING: /workspace/src/objective/regression_obj.cu:152: reg:linear is now deprecated in favor of reg:squarederror.\n",
            "[10:12:03] WARNING: /workspace/src/objective/regression_obj.cu:152: reg:linear is now deprecated in favor of reg:squarederror.\n",
            "[10:12:04] WARNING: /workspace/src/objective/regression_obj.cu:152: reg:linear is now deprecated in favor of reg:squarederror.\n",
            "[10:12:06] WARNING: /workspace/src/objective/regression_obj.cu:152: reg:linear is now deprecated in favor of reg:squarederror.\n",
            "[10:12:08] WARNING: /workspace/src/objective/regression_obj.cu:152: reg:linear is now deprecated in favor of reg:squarederror.\n",
            "[10:12:10] WARNING: /workspace/src/objective/regression_obj.cu:152: reg:linear is now deprecated in favor of reg:squarederror.\n",
            "[10:12:12] WARNING: /workspace/src/objective/regression_obj.cu:152: reg:linear is now deprecated in favor of reg:squarederror.\n",
            "[10:12:13] WARNING: /workspace/src/objective/regression_obj.cu:152: reg:linear is now deprecated in favor of reg:squarederror.\n",
            "[10:12:16] WARNING: /workspace/src/objective/regression_obj.cu:152: reg:linear is now deprecated in favor of reg:squarederror.\n",
            "[10:12:19] WARNING: /workspace/src/objective/regression_obj.cu:152: reg:linear is now deprecated in favor of reg:squarederror.\n",
            "[10:12:21] WARNING: /workspace/src/objective/regression_obj.cu:152: reg:linear is now deprecated in favor of reg:squarederror.\n",
            "[10:12:24] WARNING: /workspace/src/objective/regression_obj.cu:152: reg:linear is now deprecated in favor of reg:squarederror.\n",
            "[10:12:27] WARNING: /workspace/src/objective/regression_obj.cu:152: reg:linear is now deprecated in favor of reg:squarederror.\n",
            "[10:12:30] WARNING: /workspace/src/objective/regression_obj.cu:152: reg:linear is now deprecated in favor of reg:squarederror.\n",
            "[10:12:34] WARNING: /workspace/src/objective/regression_obj.cu:152: reg:linear is now deprecated in favor of reg:squarederror.\n",
            "[10:12:37] WARNING: /workspace/src/objective/regression_obj.cu:152: reg:linear is now deprecated in favor of reg:squarederror.\n",
            "[10:12:41] WARNING: /workspace/src/objective/regression_obj.cu:152: reg:linear is now deprecated in favor of reg:squarederror.\n",
            "[10:12:44] WARNING: /workspace/src/objective/regression_obj.cu:152: reg:linear is now deprecated in favor of reg:squarederror.\n",
            "[10:12:46] WARNING: /workspace/src/objective/regression_obj.cu:152: reg:linear is now deprecated in favor of reg:squarederror.\n",
            "[10:12:47] WARNING: /workspace/src/objective/regression_obj.cu:152: reg:linear is now deprecated in favor of reg:squarederror.\n",
            "[10:12:49] WARNING: /workspace/src/objective/regression_obj.cu:152: reg:linear is now deprecated in favor of reg:squarederror.\n",
            "[10:12:50] WARNING: /workspace/src/objective/regression_obj.cu:152: reg:linear is now deprecated in favor of reg:squarederror.\n",
            "[10:12:52] WARNING: /workspace/src/objective/regression_obj.cu:152: reg:linear is now deprecated in favor of reg:squarederror.\n",
            "[10:12:55] WARNING: /workspace/src/objective/regression_obj.cu:152: reg:linear is now deprecated in favor of reg:squarederror.\n",
            "[10:12:57] WARNING: /workspace/src/objective/regression_obj.cu:152: reg:linear is now deprecated in favor of reg:squarederror.\n",
            "[10:13:00] WARNING: /workspace/src/objective/regression_obj.cu:152: reg:linear is now deprecated in favor of reg:squarederror.\n",
            "[10:13:03] WARNING: /workspace/src/objective/regression_obj.cu:152: reg:linear is now deprecated in favor of reg:squarederror.\n",
            "[10:13:06] WARNING: /workspace/src/objective/regression_obj.cu:152: reg:linear is now deprecated in favor of reg:squarederror.\n",
            "[10:13:11] WARNING: /workspace/src/objective/regression_obj.cu:152: reg:linear is now deprecated in favor of reg:squarederror.\n",
            "[10:13:15] WARNING: /workspace/src/objective/regression_obj.cu:152: reg:linear is now deprecated in favor of reg:squarederror.\n",
            "[10:13:19] WARNING: /workspace/src/objective/regression_obj.cu:152: reg:linear is now deprecated in favor of reg:squarederror.\n",
            "[10:13:24] WARNING: /workspace/src/objective/regression_obj.cu:152: reg:linear is now deprecated in favor of reg:squarederror.\n",
            "[10:13:28] WARNING: /workspace/src/objective/regression_obj.cu:152: reg:linear is now deprecated in favor of reg:squarederror.\n",
            "[10:13:34] WARNING: /workspace/src/objective/regression_obj.cu:152: reg:linear is now deprecated in favor of reg:squarederror.\n",
            "[10:13:39] WARNING: /workspace/src/objective/regression_obj.cu:152: reg:linear is now deprecated in favor of reg:squarederror.\n",
            "[10:13:45] WARNING: /workspace/src/objective/regression_obj.cu:152: reg:linear is now deprecated in favor of reg:squarederror.\n",
            "[10:13:51] WARNING: /workspace/src/objective/regression_obj.cu:152: reg:linear is now deprecated in favor of reg:squarederror.\n",
            "[10:13:56] WARNING: /workspace/src/objective/regression_obj.cu:152: reg:linear is now deprecated in favor of reg:squarederror.\n",
            "[10:13:59] WARNING: /workspace/src/objective/regression_obj.cu:152: reg:linear is now deprecated in favor of reg:squarederror.\n",
            "[10:14:01] WARNING: /workspace/src/objective/regression_obj.cu:152: reg:linear is now deprecated in favor of reg:squarederror.\n",
            "[10:14:03] WARNING: /workspace/src/objective/regression_obj.cu:152: reg:linear is now deprecated in favor of reg:squarederror.\n",
            "[10:14:05] WARNING: /workspace/src/objective/regression_obj.cu:152: reg:linear is now deprecated in favor of reg:squarederror.\n",
            "[10:14:07] WARNING: /workspace/src/objective/regression_obj.cu:152: reg:linear is now deprecated in favor of reg:squarederror.\n",
            "[10:14:11] WARNING: /workspace/src/objective/regression_obj.cu:152: reg:linear is now deprecated in favor of reg:squarederror.\n",
            "[10:14:15] WARNING: /workspace/src/objective/regression_obj.cu:152: reg:linear is now deprecated in favor of reg:squarederror.\n",
            "[10:14:19] WARNING: /workspace/src/objective/regression_obj.cu:152: reg:linear is now deprecated in favor of reg:squarederror.\n",
            "[10:14:23] WARNING: /workspace/src/objective/regression_obj.cu:152: reg:linear is now deprecated in favor of reg:squarederror.\n",
            "[10:14:28] WARNING: /workspace/src/objective/regression_obj.cu:152: reg:linear is now deprecated in favor of reg:squarederror.\n",
            "[10:14:34] WARNING: /workspace/src/objective/regression_obj.cu:152: reg:linear is now deprecated in favor of reg:squarederror.\n",
            "[10:14:40] WARNING: /workspace/src/objective/regression_obj.cu:152: reg:linear is now deprecated in favor of reg:squarederror.\n",
            "[10:14:46] WARNING: /workspace/src/objective/regression_obj.cu:152: reg:linear is now deprecated in favor of reg:squarederror.\n",
            "[10:14:52] WARNING: /workspace/src/objective/regression_obj.cu:152: reg:linear is now deprecated in favor of reg:squarederror.\n",
            "[10:14:58] WARNING: /workspace/src/objective/regression_obj.cu:152: reg:linear is now deprecated in favor of reg:squarederror.\n",
            "[10:15:07] WARNING: /workspace/src/objective/regression_obj.cu:152: reg:linear is now deprecated in favor of reg:squarederror.\n",
            "[10:15:15] WARNING: /workspace/src/objective/regression_obj.cu:152: reg:linear is now deprecated in favor of reg:squarederror.\n",
            "[10:15:23] WARNING: /workspace/src/objective/regression_obj.cu:152: reg:linear is now deprecated in favor of reg:squarederror.\n",
            "[10:15:31] WARNING: /workspace/src/objective/regression_obj.cu:152: reg:linear is now deprecated in favor of reg:squarederror.\n",
            "[10:15:39] WARNING: /workspace/src/objective/regression_obj.cu:152: reg:linear is now deprecated in favor of reg:squarederror.\n",
            "[10:15:42] WARNING: /workspace/src/objective/regression_obj.cu:152: reg:linear is now deprecated in favor of reg:squarederror.\n",
            "[10:15:45] WARNING: /workspace/src/objective/regression_obj.cu:152: reg:linear is now deprecated in favor of reg:squarederror.\n",
            "[10:15:48] WARNING: /workspace/src/objective/regression_obj.cu:152: reg:linear is now deprecated in favor of reg:squarederror.\n",
            "[10:15:50] WARNING: /workspace/src/objective/regression_obj.cu:152: reg:linear is now deprecated in favor of reg:squarederror.\n",
            "[10:15:53] WARNING: /workspace/src/objective/regression_obj.cu:152: reg:linear is now deprecated in favor of reg:squarederror.\n",
            "[10:15:59] WARNING: /workspace/src/objective/regression_obj.cu:152: reg:linear is now deprecated in favor of reg:squarederror.\n",
            "[10:16:04] WARNING: /workspace/src/objective/regression_obj.cu:152: reg:linear is now deprecated in favor of reg:squarederror.\n",
            "[10:16:10] WARNING: /workspace/src/objective/regression_obj.cu:152: reg:linear is now deprecated in favor of reg:squarederror.\n",
            "[10:16:15] WARNING: /workspace/src/objective/regression_obj.cu:152: reg:linear is now deprecated in favor of reg:squarederror.\n",
            "[10:16:21] WARNING: /workspace/src/objective/regression_obj.cu:152: reg:linear is now deprecated in favor of reg:squarederror.\n",
            "[10:16:29] WARNING: /workspace/src/objective/regression_obj.cu:152: reg:linear is now deprecated in favor of reg:squarederror.\n",
            "[10:16:37] WARNING: /workspace/src/objective/regression_obj.cu:152: reg:linear is now deprecated in favor of reg:squarederror.\n",
            "[10:16:45] WARNING: /workspace/src/objective/regression_obj.cu:152: reg:linear is now deprecated in favor of reg:squarederror.\n",
            "[10:16:54] WARNING: /workspace/src/objective/regression_obj.cu:152: reg:linear is now deprecated in favor of reg:squarederror.\n",
            "[10:17:02] WARNING: /workspace/src/objective/regression_obj.cu:152: reg:linear is now deprecated in favor of reg:squarederror.\n",
            "[10:17:13] WARNING: /workspace/src/objective/regression_obj.cu:152: reg:linear is now deprecated in favor of reg:squarederror.\n",
            "[10:17:24] WARNING: /workspace/src/objective/regression_obj.cu:152: reg:linear is now deprecated in favor of reg:squarederror.\n",
            "[10:17:34] WARNING: /workspace/src/objective/regression_obj.cu:152: reg:linear is now deprecated in favor of reg:squarederror.\n",
            "[10:17:45] WARNING: /workspace/src/objective/regression_obj.cu:152: reg:linear is now deprecated in favor of reg:squarederror.\n",
            "[10:17:56] WARNING: /workspace/src/objective/regression_obj.cu:152: reg:linear is now deprecated in favor of reg:squarederror.\n"
          ],
          "name": "stdout"
        }
      ]
    },
    {
      "cell_type": "code",
      "metadata": {
        "colab": {
          "base_uri": "https://localhost:8080/"
        },
        "id": "xgqRj7IFTsJX",
        "outputId": "84d31cd9-fc32-4f85-972e-ed7e11270705"
      },
      "source": [
        "res = clf.best_params_\n",
        "print(clf.best_score_)\n",
        "print(res)"
      ],
      "execution_count": 63,
      "outputs": [
        {
          "output_type": "stream",
          "text": [
            "0.6800303213095751\n",
            "{'max_depth': 5, 'n_estimators': 200}\n"
          ],
          "name": "stdout"
        }
      ]
    }
  ]
}